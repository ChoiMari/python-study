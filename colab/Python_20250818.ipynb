{
  "nbformat": 4,
  "nbformat_minor": 0,
  "metadata": {
    "colab": {
      "provenance": [],
      "authorship_tag": "ABX9TyOcQERixd3+JFk3cDTlcC+7",
      "include_colab_link": true
    },
    "kernelspec": {
      "name": "python3",
      "display_name": "Python 3"
    },
    "language_info": {
      "name": "python"
    }
  },
  "cells": [
    {
      "cell_type": "markdown",
      "metadata": {
        "id": "view-in-github",
        "colab_type": "text"
      },
      "source": [
        "<a href=\"https://colab.research.google.com/github/ChoiMari/python-study/blob/main/colab/Python_20250818.ipynb\" target=\"_parent\"><img src=\"https://colab.research.google.com/assets/colab-badge.svg\" alt=\"Open In Colab\"/></a>"
      ]
    },
    {
      "cell_type": "code",
      "execution_count": 4,
      "metadata": {
        "id": "zF49Zfw2W2aU"
      },
      "outputs": [],
      "source": [
        "url = 'http://www.kobis.or.kr/kobisopenapi/webservice/rest/boxoffice/searchDailyBoxOfficeList.json?key=c3a0fa760324363ef7cde2afa0d73297&targetDt=20250815'"
      ]
    },
    {
      "cell_type": "code",
      "source": [
        "import requests"
      ],
      "metadata": {
        "id": "6ijgPrielll2"
      },
      "execution_count": 5,
      "outputs": []
    },
    {
      "cell_type": "code",
      "source": [
        "resp = requests.get(url) #url에 해당하는 정보를 달라"
      ],
      "metadata": {
        "id": "i_sDfCr9ln33"
      },
      "execution_count": 15,
      "outputs": []
    },
    {
      "cell_type": "code",
      "source": [
        "resp"
      ],
      "metadata": {
        "colab": {
          "base_uri": "https://localhost:8080/"
        },
        "id": "tJTb7yEUlx71",
        "outputId": "633377e0-d2b1-4cad-a859-40ed4c92d919"
      },
      "execution_count": 8,
      "outputs": [
        {
          "output_type": "execute_result",
          "data": {
            "text/plain": [
              "<Response [200]>"
            ]
          },
          "metadata": {},
          "execution_count": 8
        }
      ]
    },
    {
      "cell_type": "code",
      "source": [
        "data = resp.json()"
      ],
      "metadata": {
        "id": "PBH5KSTAlz0_"
      },
      "execution_count": 9,
      "outputs": []
    },
    {
      "cell_type": "code",
      "source": [
        "type(data)"
      ],
      "metadata": {
        "colab": {
          "base_uri": "https://localhost:8080/"
        },
        "id": "2Y0hif_7l8LO",
        "outputId": "03f0eed3-cd59-44d3-f646-f74ce895a6e1"
      },
      "execution_count": 11,
      "outputs": [
        {
          "output_type": "execute_result",
          "data": {
            "text/plain": [
              "dict"
            ]
          },
          "metadata": {},
          "execution_count": 11
        }
      ]
    },
    {
      "cell_type": "code",
      "source": [
        "data.keys() #딕셔너리에서 모든 키(key) 목록을 반환"
      ],
      "metadata": {
        "colab": {
          "base_uri": "https://localhost:8080/"
        },
        "id": "qjbD8wnUmWZU",
        "outputId": "4d2ecd89-33a5-42e9-f0a6-02843dbe1fe4"
      },
      "execution_count": 12,
      "outputs": [
        {
          "output_type": "execute_result",
          "data": {
            "text/plain": [
              "dict_keys(['boxOfficeResult'])"
            ]
          },
          "metadata": {},
          "execution_count": 12
        }
      ]
    },
    {
      "cell_type": "code",
      "source": [
        "data['boxOfficeResult']"
      ],
      "metadata": {
        "colab": {
          "base_uri": "https://localhost:8080/"
        },
        "id": "hvPu7CzfmhhS",
        "outputId": "9c7e9fc1-0952-4e57-bf3e-bce8b38a79aa"
      },
      "execution_count": 13,
      "outputs": [
        {
          "output_type": "execute_result",
          "data": {
            "text/plain": [
              "{'boxofficeType': '일별 박스오피스',\n",
              " 'showRange': '20250815~20250815',\n",
              " 'dailyBoxOfficeList': [{'rnum': '1',\n",
              "   'rank': '1',\n",
              "   'rankInten': '0',\n",
              "   'rankOldAndNew': 'OLD',\n",
              "   'movieCd': '20241941',\n",
              "   'movieNm': '좀비딸',\n",
              "   'openDt': '2025-07-30',\n",
              "   'salesAmt': '2834820970',\n",
              "   'salesShare': '41.6',\n",
              "   'salesInten': '1801428840',\n",
              "   'salesChange': '174.3',\n",
              "   'salesAcc': '38198538980',\n",
              "   'audiCnt': '290688',\n",
              "   'audiInten': '179702',\n",
              "   'audiChange': '161.9',\n",
              "   'audiAcc': '4048800',\n",
              "   'scrnCnt': '1437',\n",
              "   'showCnt': '6340'},\n",
              "  {'rnum': '2',\n",
              "   'rank': '2',\n",
              "   'rankInten': '0',\n",
              "   'rankOldAndNew': 'OLD',\n",
              "   'movieCd': '20254501',\n",
              "   'movieNm': 'F1 더 무비',\n",
              "   'openDt': '2025-06-25',\n",
              "   'salesAmt': '1598416170',\n",
              "   'salesShare': '23.5',\n",
              "   'salesInten': '966658630',\n",
              "   'salesChange': '153',\n",
              "   'salesAcc': '42796027390',\n",
              "   'audiCnt': '140919',\n",
              "   'audiInten': '84034',\n",
              "   'audiChange': '147.7',\n",
              "   'audiAcc': '3972444',\n",
              "   'scrnCnt': '937',\n",
              "   'showCnt': '2792'},\n",
              "  {'rnum': '3',\n",
              "   'rank': '3',\n",
              "   'rankInten': '0',\n",
              "   'rankOldAndNew': 'OLD',\n",
              "   'movieCd': '20210546',\n",
              "   'movieNm': '악마가 이사왔다',\n",
              "   'openDt': '2025-08-13',\n",
              "   'salesAmt': '720417880',\n",
              "   'salesShare': '10.6',\n",
              "   'salesInten': '365144310',\n",
              "   'salesChange': '102.8',\n",
              "   'salesAcc': '1567581050',\n",
              "   'audiCnt': '73878',\n",
              "   'audiInten': '34758',\n",
              "   'audiChange': '88.8',\n",
              "   'audiAcc': '166301',\n",
              "   'scrnCnt': '839',\n",
              "   'showCnt': '3179'},\n",
              "  {'rnum': '4',\n",
              "   'rank': '4',\n",
              "   'rankInten': '0',\n",
              "   'rankOldAndNew': 'OLD',\n",
              "   'movieCd': '20256701',\n",
              "   'movieNm': '긴키 지방의 어느 장소에 대하여',\n",
              "   'openDt': '2025-08-13',\n",
              "   'salesAmt': '251959180',\n",
              "   'salesShare': '3.7',\n",
              "   'salesInten': '112006060',\n",
              "   'salesChange': '80',\n",
              "   'salesAcc': '530227100',\n",
              "   'audiCnt': '24378',\n",
              "   'audiInten': '10019',\n",
              "   'audiChange': '69.8',\n",
              "   'audiAcc': '52887',\n",
              "   'scrnCnt': '411',\n",
              "   'showCnt': '613'},\n",
              "  {'rnum': '5',\n",
              "   'rank': '5',\n",
              "   'rankInten': '1',\n",
              "   'rankOldAndNew': 'OLD',\n",
              "   'movieCd': '20254275',\n",
              "   'movieNm': '킹 오브 킹스',\n",
              "   'openDt': '2025-07-16',\n",
              "   'salesAmt': '210572250',\n",
              "   'salesShare': '3.1',\n",
              "   'salesInten': '146234700',\n",
              "   'salesChange': '227.3',\n",
              "   'salesAcc': '11367600806',\n",
              "   'audiCnt': '21821',\n",
              "   'audiInten': '14748',\n",
              "   'audiChange': '208.5',\n",
              "   'audiAcc': '1206624',\n",
              "   'scrnCnt': '526',\n",
              "   'showCnt': '707'},\n",
              "  {'rnum': '6',\n",
              "   'rank': '6',\n",
              "   'rankInten': '3',\n",
              "   'rankOldAndNew': 'OLD',\n",
              "   'movieCd': '20252680',\n",
              "   'movieNm': '스머프',\n",
              "   'openDt': '2025-08-06',\n",
              "   'salesAmt': '177210590',\n",
              "   'salesShare': '2.6',\n",
              "   'salesInten': '138777720',\n",
              "   'salesChange': '361.1',\n",
              "   'salesAcc': '1166267440',\n",
              "   'audiCnt': '19243',\n",
              "   'audiInten': '14512',\n",
              "   'audiChange': '306.7',\n",
              "   'audiAcc': '131391',\n",
              "   'scrnCnt': '535',\n",
              "   'showCnt': '693'},\n",
              "  {'rnum': '7',\n",
              "   'rank': '7',\n",
              "   'rankInten': '-2',\n",
              "   'rankOldAndNew': 'OLD',\n",
              "   'movieCd': '20248711',\n",
              "   'movieNm': '발레리나',\n",
              "   'openDt': '2025-08-06',\n",
              "   'salesAmt': '196326400',\n",
              "   'salesShare': '2.9',\n",
              "   'salesInten': '79614630',\n",
              "   'salesChange': '68.2',\n",
              "   'salesAcc': '2546344560',\n",
              "   'audiCnt': '19144',\n",
              "   'audiInten': '7196',\n",
              "   'audiChange': '60.2',\n",
              "   'audiAcc': '256398',\n",
              "   'scrnCnt': '532',\n",
              "   'showCnt': '871'},\n",
              "  {'rnum': '8',\n",
              "   'rank': '8',\n",
              "   'rankInten': '-1',\n",
              "   'rankOldAndNew': 'OLD',\n",
              "   'movieCd': '20247460',\n",
              "   'movieNm': '배드 가이즈 2',\n",
              "   'openDt': '2025-07-30',\n",
              "   'salesAmt': '163514090',\n",
              "   'salesShare': '2.4',\n",
              "   'salesInten': '117970990',\n",
              "   'salesChange': '259',\n",
              "   'salesAcc': '3100670930',\n",
              "   'audiCnt': '17721',\n",
              "   'audiInten': '12469',\n",
              "   'audiChange': '237.4',\n",
              "   'audiAcc': '344541',\n",
              "   'scrnCnt': '481',\n",
              "   'showCnt': '614'},\n",
              "  {'rnum': '9',\n",
              "   'rank': '9',\n",
              "   'rankInten': '-1',\n",
              "   'rankOldAndNew': 'OLD',\n",
              "   'movieCd': '20255655',\n",
              "   'movieNm': '식스데이즈',\n",
              "   'openDt': '2025-08-13',\n",
              "   'salesAmt': '119130000',\n",
              "   'salesShare': '1.7',\n",
              "   'salesInten': '14124000',\n",
              "   'salesChange': '13.5',\n",
              "   'salesAcc': '570186000',\n",
              "   'audiCnt': '5415',\n",
              "   'audiInten': '642',\n",
              "   'audiChange': '13.5',\n",
              "   'audiAcc': '26097',\n",
              "   'scrnCnt': '113',\n",
              "   'showCnt': '256'},\n",
              "  {'rnum': '10',\n",
              "   'rank': '10',\n",
              "   'rankInten': '7',\n",
              "   'rankOldAndNew': 'OLD',\n",
              "   'movieCd': '20254603',\n",
              "   'movieNm': '베베핀 극장판: 사라진 베베핀과 핑크퐁 대모험',\n",
              "   'openDt': '2025-07-24',\n",
              "   'salesAmt': '50922500',\n",
              "   'salesShare': '0.7',\n",
              "   'salesInten': '40527500',\n",
              "   'salesChange': '389.9',\n",
              "   'salesAcc': '1881101110',\n",
              "   'audiCnt': '5051',\n",
              "   'audiInten': '3544',\n",
              "   'audiChange': '235.2',\n",
              "   'audiAcc': '202854',\n",
              "   'scrnCnt': '185',\n",
              "   'showCnt': '209'}]}"
            ]
          },
          "metadata": {},
          "execution_count": 13
        }
      ]
    },
    {
      "cell_type": "code",
      "source": [
        "data['boxOfficeResult'].keys()"
      ],
      "metadata": {
        "colab": {
          "base_uri": "https://localhost:8080/"
        },
        "id": "UGJLO_WDmu-V",
        "outputId": "ca584f74-1100-47dd-95d5-7d39e6b8dadc"
      },
      "execution_count": 14,
      "outputs": [
        {
          "output_type": "execute_result",
          "data": {
            "text/plain": [
              "dict_keys(['boxofficeType', 'showRange', 'dailyBoxOfficeList'])"
            ]
          },
          "metadata": {},
          "execution_count": 14
        }
      ]
    },
    {
      "cell_type": "code",
      "source": [
        "# 확인함\n",
        "# 딕셔너리라서 키값으로 확인\n",
        "type(data['boxOfficeResult']['dailyBoxOfficeList'])"
      ],
      "metadata": {
        "colab": {
          "base_uri": "https://localhost:8080/"
        },
        "id": "cAk22qswm6Vo",
        "outputId": "5e2a792f-431d-4c97-e127-224963aa0f2f"
      },
      "execution_count": 18,
      "outputs": [
        {
          "output_type": "execute_result",
          "data": {
            "text/plain": [
              "list"
            ]
          },
          "metadata": {},
          "execution_count": 18
        }
      ]
    },
    {
      "cell_type": "code",
      "source": [
        "data['boxOfficeResult']['boxofficeType']"
      ],
      "metadata": {
        "colab": {
          "base_uri": "https://localhost:8080/",
          "height": 36
        },
        "id": "wH-K8KiknWLO",
        "outputId": "258f2c8b-253d-4573-b64e-71572b584eaa"
      },
      "execution_count": 19,
      "outputs": [
        {
          "output_type": "execute_result",
          "data": {
            "text/plain": [
              "'일별 박스오피스'"
            ],
            "application/vnd.google.colaboratory.intrinsic+json": {
              "type": "string"
            }
          },
          "metadata": {},
          "execution_count": 19
        }
      ]
    },
    {
      "cell_type": "code",
      "source": [
        "data['boxOfficeResult']['showRange']"
      ],
      "metadata": {
        "colab": {
          "base_uri": "https://localhost:8080/",
          "height": 36
        },
        "id": "qlI6-_A-nsWJ",
        "outputId": "6ed43ec6-93b7-4afe-d63e-c3327e592645"
      },
      "execution_count": 20,
      "outputs": [
        {
          "output_type": "execute_result",
          "data": {
            "text/plain": [
              "'20250815~20250815'"
            ],
            "application/vnd.google.colaboratory.intrinsic+json": {
              "type": "string"
            }
          },
          "metadata": {},
          "execution_count": 20
        }
      ]
    },
    {
      "cell_type": "code",
      "source": [
        "data_list = data['boxOfficeResult']['dailyBoxOfficeList']"
      ],
      "metadata": {
        "id": "9ids8TpMn08k"
      },
      "execution_count": 22,
      "outputs": []
    },
    {
      "cell_type": "code",
      "source": [
        "for i in data_list:\n",
        "    print(i)"
      ],
      "metadata": {
        "colab": {
          "base_uri": "https://localhost:8080/"
        },
        "id": "-f5rWPmYn6hS",
        "outputId": "7d0f3e2a-333e-40d6-fef1-0bd5671cb150"
      },
      "execution_count": 23,
      "outputs": [
        {
          "output_type": "stream",
          "name": "stdout",
          "text": [
            "{'rnum': '1', 'rank': '1', 'rankInten': '0', 'rankOldAndNew': 'OLD', 'movieCd': '20241941', 'movieNm': '좀비딸', 'openDt': '2025-07-30', 'salesAmt': '2834820970', 'salesShare': '41.6', 'salesInten': '1801428840', 'salesChange': '174.3', 'salesAcc': '38198538980', 'audiCnt': '290688', 'audiInten': '179702', 'audiChange': '161.9', 'audiAcc': '4048800', 'scrnCnt': '1437', 'showCnt': '6340'}\n",
            "{'rnum': '2', 'rank': '2', 'rankInten': '0', 'rankOldAndNew': 'OLD', 'movieCd': '20254501', 'movieNm': 'F1 더 무비', 'openDt': '2025-06-25', 'salesAmt': '1598416170', 'salesShare': '23.5', 'salesInten': '966658630', 'salesChange': '153', 'salesAcc': '42796027390', 'audiCnt': '140919', 'audiInten': '84034', 'audiChange': '147.7', 'audiAcc': '3972444', 'scrnCnt': '937', 'showCnt': '2792'}\n",
            "{'rnum': '3', 'rank': '3', 'rankInten': '0', 'rankOldAndNew': 'OLD', 'movieCd': '20210546', 'movieNm': '악마가 이사왔다', 'openDt': '2025-08-13', 'salesAmt': '720417880', 'salesShare': '10.6', 'salesInten': '365144310', 'salesChange': '102.8', 'salesAcc': '1567581050', 'audiCnt': '73878', 'audiInten': '34758', 'audiChange': '88.8', 'audiAcc': '166301', 'scrnCnt': '839', 'showCnt': '3179'}\n",
            "{'rnum': '4', 'rank': '4', 'rankInten': '0', 'rankOldAndNew': 'OLD', 'movieCd': '20256701', 'movieNm': '긴키 지방의 어느 장소에 대하여', 'openDt': '2025-08-13', 'salesAmt': '251959180', 'salesShare': '3.7', 'salesInten': '112006060', 'salesChange': '80', 'salesAcc': '530227100', 'audiCnt': '24378', 'audiInten': '10019', 'audiChange': '69.8', 'audiAcc': '52887', 'scrnCnt': '411', 'showCnt': '613'}\n",
            "{'rnum': '5', 'rank': '5', 'rankInten': '1', 'rankOldAndNew': 'OLD', 'movieCd': '20254275', 'movieNm': '킹 오브 킹스', 'openDt': '2025-07-16', 'salesAmt': '210572250', 'salesShare': '3.1', 'salesInten': '146234700', 'salesChange': '227.3', 'salesAcc': '11367600806', 'audiCnt': '21821', 'audiInten': '14748', 'audiChange': '208.5', 'audiAcc': '1206624', 'scrnCnt': '526', 'showCnt': '707'}\n",
            "{'rnum': '6', 'rank': '6', 'rankInten': '3', 'rankOldAndNew': 'OLD', 'movieCd': '20252680', 'movieNm': '스머프', 'openDt': '2025-08-06', 'salesAmt': '177210590', 'salesShare': '2.6', 'salesInten': '138777720', 'salesChange': '361.1', 'salesAcc': '1166267440', 'audiCnt': '19243', 'audiInten': '14512', 'audiChange': '306.7', 'audiAcc': '131391', 'scrnCnt': '535', 'showCnt': '693'}\n",
            "{'rnum': '7', 'rank': '7', 'rankInten': '-2', 'rankOldAndNew': 'OLD', 'movieCd': '20248711', 'movieNm': '발레리나', 'openDt': '2025-08-06', 'salesAmt': '196326400', 'salesShare': '2.9', 'salesInten': '79614630', 'salesChange': '68.2', 'salesAcc': '2546344560', 'audiCnt': '19144', 'audiInten': '7196', 'audiChange': '60.2', 'audiAcc': '256398', 'scrnCnt': '532', 'showCnt': '871'}\n",
            "{'rnum': '8', 'rank': '8', 'rankInten': '-1', 'rankOldAndNew': 'OLD', 'movieCd': '20247460', 'movieNm': '배드 가이즈 2', 'openDt': '2025-07-30', 'salesAmt': '163514090', 'salesShare': '2.4', 'salesInten': '117970990', 'salesChange': '259', 'salesAcc': '3100670930', 'audiCnt': '17721', 'audiInten': '12469', 'audiChange': '237.4', 'audiAcc': '344541', 'scrnCnt': '481', 'showCnt': '614'}\n",
            "{'rnum': '9', 'rank': '9', 'rankInten': '-1', 'rankOldAndNew': 'OLD', 'movieCd': '20255655', 'movieNm': '식스데이즈', 'openDt': '2025-08-13', 'salesAmt': '119130000', 'salesShare': '1.7', 'salesInten': '14124000', 'salesChange': '13.5', 'salesAcc': '570186000', 'audiCnt': '5415', 'audiInten': '642', 'audiChange': '13.5', 'audiAcc': '26097', 'scrnCnt': '113', 'showCnt': '256'}\n",
            "{'rnum': '10', 'rank': '10', 'rankInten': '7', 'rankOldAndNew': 'OLD', 'movieCd': '20254603', 'movieNm': '베베핀 극장판: 사라진 베베핀과 핑크퐁 대모험', 'openDt': '2025-07-24', 'salesAmt': '50922500', 'salesShare': '0.7', 'salesInten': '40527500', 'salesChange': '389.9', 'salesAcc': '1881101110', 'audiCnt': '5051', 'audiInten': '3544', 'audiChange': '235.2', 'audiAcc': '202854', 'scrnCnt': '185', 'showCnt': '209'}\n"
          ]
        }
      ]
    },
    {
      "cell_type": "code",
      "source": [
        "# 리스트안에 딕셔너리?\n",
        "# -> DataFrame 이다"
      ],
      "metadata": {
        "id": "Swer5jN8oCVm"
      },
      "execution_count": 24,
      "outputs": []
    },
    {
      "cell_type": "code",
      "source": [
        "for i in data_list:\n",
        "    print(i['rank'],i['movieNm'], i['salesAmt'], i['openDt'])"
      ],
      "metadata": {
        "colab": {
          "base_uri": "https://localhost:8080/"
        },
        "id": "hK1cTV6boVoo",
        "outputId": "40b77520-cbbc-4f44-98b7-4ea0ea2f4f5d"
      },
      "execution_count": 25,
      "outputs": [
        {
          "output_type": "stream",
          "name": "stdout",
          "text": [
            "1 좀비딸 2834820970 2025-07-30\n",
            "2 F1 더 무비 1598416170 2025-06-25\n",
            "3 악마가 이사왔다 720417880 2025-08-13\n",
            "4 긴키 지방의 어느 장소에 대하여 251959180 2025-08-13\n",
            "5 킹 오브 킹스 210572250 2025-07-16\n",
            "6 스머프 177210590 2025-08-06\n",
            "7 발레리나 196326400 2025-08-06\n",
            "8 배드 가이즈 2 163514090 2025-07-30\n",
            "9 식스데이즈 119130000 2025-08-13\n",
            "10 베베핀 극장판: 사라진 베베핀과 핑크퐁 대모험 50922500 2025-07-24\n"
          ]
        }
      ]
    },
    {
      "cell_type": "code",
      "source": [
        "# 이렇게 하느니 판다스를 쓴다\n",
        "import pandas as pd"
      ],
      "metadata": {
        "id": "r_FGZs9wolMx"
      },
      "execution_count": 26,
      "outputs": []
    },
    {
      "cell_type": "code",
      "source": [
        "df_movie = pd.DataFrame(data_list)"
      ],
      "metadata": {
        "id": "gOEyVUb6oxmW"
      },
      "execution_count": 27,
      "outputs": []
    },
    {
      "cell_type": "code",
      "source": [
        "df_movie"
      ],
      "metadata": {
        "colab": {
          "base_uri": "https://localhost:8080/",
          "height": 643
        },
        "id": "jlCdVXBXo2Ae",
        "outputId": "39520896-fc42-4d94-80a4-23f0825d3246"
      },
      "execution_count": 28,
      "outputs": [
        {
          "output_type": "execute_result",
          "data": {
            "text/plain": [
              "  rnum rank rankInten rankOldAndNew   movieCd                    movieNm  \\\n",
              "0    1    1         0           OLD  20241941                        좀비딸   \n",
              "1    2    2         0           OLD  20254501                    F1 더 무비   \n",
              "2    3    3         0           OLD  20210546                   악마가 이사왔다   \n",
              "3    4    4         0           OLD  20256701          긴키 지방의 어느 장소에 대하여   \n",
              "4    5    5         1           OLD  20254275                    킹 오브 킹스   \n",
              "5    6    6         3           OLD  20252680                        스머프   \n",
              "6    7    7        -2           OLD  20248711                       발레리나   \n",
              "7    8    8        -1           OLD  20247460                   배드 가이즈 2   \n",
              "8    9    9        -1           OLD  20255655                      식스데이즈   \n",
              "9   10   10         7           OLD  20254603  베베핀 극장판: 사라진 베베핀과 핑크퐁 대모험   \n",
              "\n",
              "       openDt    salesAmt salesShare  salesInten salesChange     salesAcc  \\\n",
              "0  2025-07-30  2834820970       41.6  1801428840       174.3  38198538980   \n",
              "1  2025-06-25  1598416170       23.5   966658630         153  42796027390   \n",
              "2  2025-08-13   720417880       10.6   365144310       102.8   1567581050   \n",
              "3  2025-08-13   251959180        3.7   112006060          80    530227100   \n",
              "4  2025-07-16   210572250        3.1   146234700       227.3  11367600806   \n",
              "5  2025-08-06   177210590        2.6   138777720       361.1   1166267440   \n",
              "6  2025-08-06   196326400        2.9    79614630        68.2   2546344560   \n",
              "7  2025-07-30   163514090        2.4   117970990         259   3100670930   \n",
              "8  2025-08-13   119130000        1.7    14124000        13.5    570186000   \n",
              "9  2025-07-24    50922500        0.7    40527500       389.9   1881101110   \n",
              "\n",
              "  audiCnt audiInten audiChange  audiAcc scrnCnt showCnt  \n",
              "0  290688    179702      161.9  4048800    1437    6340  \n",
              "1  140919     84034      147.7  3972444     937    2792  \n",
              "2   73878     34758       88.8   166301     839    3179  \n",
              "3   24378     10019       69.8    52887     411     613  \n",
              "4   21821     14748      208.5  1206624     526     707  \n",
              "5   19243     14512      306.7   131391     535     693  \n",
              "6   19144      7196       60.2   256398     532     871  \n",
              "7   17721     12469      237.4   344541     481     614  \n",
              "8    5415       642       13.5    26097     113     256  \n",
              "9    5051      3544      235.2   202854     185     209  "
            ],
            "text/html": [
              "\n",
              "  <div id=\"df-1b608ca2-fc0f-4198-9430-a4b99c078b1e\" class=\"colab-df-container\">\n",
              "    <div>\n",
              "<style scoped>\n",
              "    .dataframe tbody tr th:only-of-type {\n",
              "        vertical-align: middle;\n",
              "    }\n",
              "\n",
              "    .dataframe tbody tr th {\n",
              "        vertical-align: top;\n",
              "    }\n",
              "\n",
              "    .dataframe thead th {\n",
              "        text-align: right;\n",
              "    }\n",
              "</style>\n",
              "<table border=\"1\" class=\"dataframe\">\n",
              "  <thead>\n",
              "    <tr style=\"text-align: right;\">\n",
              "      <th></th>\n",
              "      <th>rnum</th>\n",
              "      <th>rank</th>\n",
              "      <th>rankInten</th>\n",
              "      <th>rankOldAndNew</th>\n",
              "      <th>movieCd</th>\n",
              "      <th>movieNm</th>\n",
              "      <th>openDt</th>\n",
              "      <th>salesAmt</th>\n",
              "      <th>salesShare</th>\n",
              "      <th>salesInten</th>\n",
              "      <th>salesChange</th>\n",
              "      <th>salesAcc</th>\n",
              "      <th>audiCnt</th>\n",
              "      <th>audiInten</th>\n",
              "      <th>audiChange</th>\n",
              "      <th>audiAcc</th>\n",
              "      <th>scrnCnt</th>\n",
              "      <th>showCnt</th>\n",
              "    </tr>\n",
              "  </thead>\n",
              "  <tbody>\n",
              "    <tr>\n",
              "      <th>0</th>\n",
              "      <td>1</td>\n",
              "      <td>1</td>\n",
              "      <td>0</td>\n",
              "      <td>OLD</td>\n",
              "      <td>20241941</td>\n",
              "      <td>좀비딸</td>\n",
              "      <td>2025-07-30</td>\n",
              "      <td>2834820970</td>\n",
              "      <td>41.6</td>\n",
              "      <td>1801428840</td>\n",
              "      <td>174.3</td>\n",
              "      <td>38198538980</td>\n",
              "      <td>290688</td>\n",
              "      <td>179702</td>\n",
              "      <td>161.9</td>\n",
              "      <td>4048800</td>\n",
              "      <td>1437</td>\n",
              "      <td>6340</td>\n",
              "    </tr>\n",
              "    <tr>\n",
              "      <th>1</th>\n",
              "      <td>2</td>\n",
              "      <td>2</td>\n",
              "      <td>0</td>\n",
              "      <td>OLD</td>\n",
              "      <td>20254501</td>\n",
              "      <td>F1 더 무비</td>\n",
              "      <td>2025-06-25</td>\n",
              "      <td>1598416170</td>\n",
              "      <td>23.5</td>\n",
              "      <td>966658630</td>\n",
              "      <td>153</td>\n",
              "      <td>42796027390</td>\n",
              "      <td>140919</td>\n",
              "      <td>84034</td>\n",
              "      <td>147.7</td>\n",
              "      <td>3972444</td>\n",
              "      <td>937</td>\n",
              "      <td>2792</td>\n",
              "    </tr>\n",
              "    <tr>\n",
              "      <th>2</th>\n",
              "      <td>3</td>\n",
              "      <td>3</td>\n",
              "      <td>0</td>\n",
              "      <td>OLD</td>\n",
              "      <td>20210546</td>\n",
              "      <td>악마가 이사왔다</td>\n",
              "      <td>2025-08-13</td>\n",
              "      <td>720417880</td>\n",
              "      <td>10.6</td>\n",
              "      <td>365144310</td>\n",
              "      <td>102.8</td>\n",
              "      <td>1567581050</td>\n",
              "      <td>73878</td>\n",
              "      <td>34758</td>\n",
              "      <td>88.8</td>\n",
              "      <td>166301</td>\n",
              "      <td>839</td>\n",
              "      <td>3179</td>\n",
              "    </tr>\n",
              "    <tr>\n",
              "      <th>3</th>\n",
              "      <td>4</td>\n",
              "      <td>4</td>\n",
              "      <td>0</td>\n",
              "      <td>OLD</td>\n",
              "      <td>20256701</td>\n",
              "      <td>긴키 지방의 어느 장소에 대하여</td>\n",
              "      <td>2025-08-13</td>\n",
              "      <td>251959180</td>\n",
              "      <td>3.7</td>\n",
              "      <td>112006060</td>\n",
              "      <td>80</td>\n",
              "      <td>530227100</td>\n",
              "      <td>24378</td>\n",
              "      <td>10019</td>\n",
              "      <td>69.8</td>\n",
              "      <td>52887</td>\n",
              "      <td>411</td>\n",
              "      <td>613</td>\n",
              "    </tr>\n",
              "    <tr>\n",
              "      <th>4</th>\n",
              "      <td>5</td>\n",
              "      <td>5</td>\n",
              "      <td>1</td>\n",
              "      <td>OLD</td>\n",
              "      <td>20254275</td>\n",
              "      <td>킹 오브 킹스</td>\n",
              "      <td>2025-07-16</td>\n",
              "      <td>210572250</td>\n",
              "      <td>3.1</td>\n",
              "      <td>146234700</td>\n",
              "      <td>227.3</td>\n",
              "      <td>11367600806</td>\n",
              "      <td>21821</td>\n",
              "      <td>14748</td>\n",
              "      <td>208.5</td>\n",
              "      <td>1206624</td>\n",
              "      <td>526</td>\n",
              "      <td>707</td>\n",
              "    </tr>\n",
              "    <tr>\n",
              "      <th>5</th>\n",
              "      <td>6</td>\n",
              "      <td>6</td>\n",
              "      <td>3</td>\n",
              "      <td>OLD</td>\n",
              "      <td>20252680</td>\n",
              "      <td>스머프</td>\n",
              "      <td>2025-08-06</td>\n",
              "      <td>177210590</td>\n",
              "      <td>2.6</td>\n",
              "      <td>138777720</td>\n",
              "      <td>361.1</td>\n",
              "      <td>1166267440</td>\n",
              "      <td>19243</td>\n",
              "      <td>14512</td>\n",
              "      <td>306.7</td>\n",
              "      <td>131391</td>\n",
              "      <td>535</td>\n",
              "      <td>693</td>\n",
              "    </tr>\n",
              "    <tr>\n",
              "      <th>6</th>\n",
              "      <td>7</td>\n",
              "      <td>7</td>\n",
              "      <td>-2</td>\n",
              "      <td>OLD</td>\n",
              "      <td>20248711</td>\n",
              "      <td>발레리나</td>\n",
              "      <td>2025-08-06</td>\n",
              "      <td>196326400</td>\n",
              "      <td>2.9</td>\n",
              "      <td>79614630</td>\n",
              "      <td>68.2</td>\n",
              "      <td>2546344560</td>\n",
              "      <td>19144</td>\n",
              "      <td>7196</td>\n",
              "      <td>60.2</td>\n",
              "      <td>256398</td>\n",
              "      <td>532</td>\n",
              "      <td>871</td>\n",
              "    </tr>\n",
              "    <tr>\n",
              "      <th>7</th>\n",
              "      <td>8</td>\n",
              "      <td>8</td>\n",
              "      <td>-1</td>\n",
              "      <td>OLD</td>\n",
              "      <td>20247460</td>\n",
              "      <td>배드 가이즈 2</td>\n",
              "      <td>2025-07-30</td>\n",
              "      <td>163514090</td>\n",
              "      <td>2.4</td>\n",
              "      <td>117970990</td>\n",
              "      <td>259</td>\n",
              "      <td>3100670930</td>\n",
              "      <td>17721</td>\n",
              "      <td>12469</td>\n",
              "      <td>237.4</td>\n",
              "      <td>344541</td>\n",
              "      <td>481</td>\n",
              "      <td>614</td>\n",
              "    </tr>\n",
              "    <tr>\n",
              "      <th>8</th>\n",
              "      <td>9</td>\n",
              "      <td>9</td>\n",
              "      <td>-1</td>\n",
              "      <td>OLD</td>\n",
              "      <td>20255655</td>\n",
              "      <td>식스데이즈</td>\n",
              "      <td>2025-08-13</td>\n",
              "      <td>119130000</td>\n",
              "      <td>1.7</td>\n",
              "      <td>14124000</td>\n",
              "      <td>13.5</td>\n",
              "      <td>570186000</td>\n",
              "      <td>5415</td>\n",
              "      <td>642</td>\n",
              "      <td>13.5</td>\n",
              "      <td>26097</td>\n",
              "      <td>113</td>\n",
              "      <td>256</td>\n",
              "    </tr>\n",
              "    <tr>\n",
              "      <th>9</th>\n",
              "      <td>10</td>\n",
              "      <td>10</td>\n",
              "      <td>7</td>\n",
              "      <td>OLD</td>\n",
              "      <td>20254603</td>\n",
              "      <td>베베핀 극장판: 사라진 베베핀과 핑크퐁 대모험</td>\n",
              "      <td>2025-07-24</td>\n",
              "      <td>50922500</td>\n",
              "      <td>0.7</td>\n",
              "      <td>40527500</td>\n",
              "      <td>389.9</td>\n",
              "      <td>1881101110</td>\n",
              "      <td>5051</td>\n",
              "      <td>3544</td>\n",
              "      <td>235.2</td>\n",
              "      <td>202854</td>\n",
              "      <td>185</td>\n",
              "      <td>209</td>\n",
              "    </tr>\n",
              "  </tbody>\n",
              "</table>\n",
              "</div>\n",
              "    <div class=\"colab-df-buttons\">\n",
              "\n",
              "  <div class=\"colab-df-container\">\n",
              "    <button class=\"colab-df-convert\" onclick=\"convertToInteractive('df-1b608ca2-fc0f-4198-9430-a4b99c078b1e')\"\n",
              "            title=\"Convert this dataframe to an interactive table.\"\n",
              "            style=\"display:none;\">\n",
              "\n",
              "  <svg xmlns=\"http://www.w3.org/2000/svg\" height=\"24px\" viewBox=\"0 -960 960 960\">\n",
              "    <path d=\"M120-120v-720h720v720H120Zm60-500h600v-160H180v160Zm220 220h160v-160H400v160Zm0 220h160v-160H400v160ZM180-400h160v-160H180v160Zm440 0h160v-160H620v160ZM180-180h160v-160H180v160Zm440 0h160v-160H620v160Z\"/>\n",
              "  </svg>\n",
              "    </button>\n",
              "\n",
              "  <style>\n",
              "    .colab-df-container {\n",
              "      display:flex;\n",
              "      gap: 12px;\n",
              "    }\n",
              "\n",
              "    .colab-df-convert {\n",
              "      background-color: #E8F0FE;\n",
              "      border: none;\n",
              "      border-radius: 50%;\n",
              "      cursor: pointer;\n",
              "      display: none;\n",
              "      fill: #1967D2;\n",
              "      height: 32px;\n",
              "      padding: 0 0 0 0;\n",
              "      width: 32px;\n",
              "    }\n",
              "\n",
              "    .colab-df-convert:hover {\n",
              "      background-color: #E2EBFA;\n",
              "      box-shadow: 0px 1px 2px rgba(60, 64, 67, 0.3), 0px 1px 3px 1px rgba(60, 64, 67, 0.15);\n",
              "      fill: #174EA6;\n",
              "    }\n",
              "\n",
              "    .colab-df-buttons div {\n",
              "      margin-bottom: 4px;\n",
              "    }\n",
              "\n",
              "    [theme=dark] .colab-df-convert {\n",
              "      background-color: #3B4455;\n",
              "      fill: #D2E3FC;\n",
              "    }\n",
              "\n",
              "    [theme=dark] .colab-df-convert:hover {\n",
              "      background-color: #434B5C;\n",
              "      box-shadow: 0px 1px 3px 1px rgba(0, 0, 0, 0.15);\n",
              "      filter: drop-shadow(0px 1px 2px rgba(0, 0, 0, 0.3));\n",
              "      fill: #FFFFFF;\n",
              "    }\n",
              "  </style>\n",
              "\n",
              "    <script>\n",
              "      const buttonEl =\n",
              "        document.querySelector('#df-1b608ca2-fc0f-4198-9430-a4b99c078b1e button.colab-df-convert');\n",
              "      buttonEl.style.display =\n",
              "        google.colab.kernel.accessAllowed ? 'block' : 'none';\n",
              "\n",
              "      async function convertToInteractive(key) {\n",
              "        const element = document.querySelector('#df-1b608ca2-fc0f-4198-9430-a4b99c078b1e');\n",
              "        const dataTable =\n",
              "          await google.colab.kernel.invokeFunction('convertToInteractive',\n",
              "                                                    [key], {});\n",
              "        if (!dataTable) return;\n",
              "\n",
              "        const docLinkHtml = 'Like what you see? Visit the ' +\n",
              "          '<a target=\"_blank\" href=https://colab.research.google.com/notebooks/data_table.ipynb>data table notebook</a>'\n",
              "          + ' to learn more about interactive tables.';\n",
              "        element.innerHTML = '';\n",
              "        dataTable['output_type'] = 'display_data';\n",
              "        await google.colab.output.renderOutput(dataTable, element);\n",
              "        const docLink = document.createElement('div');\n",
              "        docLink.innerHTML = docLinkHtml;\n",
              "        element.appendChild(docLink);\n",
              "      }\n",
              "    </script>\n",
              "  </div>\n",
              "\n",
              "\n",
              "    <div id=\"df-d4852587-67c3-42b9-a5c2-4d7020d43193\">\n",
              "      <button class=\"colab-df-quickchart\" onclick=\"quickchart('df-d4852587-67c3-42b9-a5c2-4d7020d43193')\"\n",
              "                title=\"Suggest charts\"\n",
              "                style=\"display:none;\">\n",
              "\n",
              "<svg xmlns=\"http://www.w3.org/2000/svg\" height=\"24px\"viewBox=\"0 0 24 24\"\n",
              "     width=\"24px\">\n",
              "    <g>\n",
              "        <path d=\"M19 3H5c-1.1 0-2 .9-2 2v14c0 1.1.9 2 2 2h14c1.1 0 2-.9 2-2V5c0-1.1-.9-2-2-2zM9 17H7v-7h2v7zm4 0h-2V7h2v10zm4 0h-2v-4h2v4z\"/>\n",
              "    </g>\n",
              "</svg>\n",
              "      </button>\n",
              "\n",
              "<style>\n",
              "  .colab-df-quickchart {\n",
              "      --bg-color: #E8F0FE;\n",
              "      --fill-color: #1967D2;\n",
              "      --hover-bg-color: #E2EBFA;\n",
              "      --hover-fill-color: #174EA6;\n",
              "      --disabled-fill-color: #AAA;\n",
              "      --disabled-bg-color: #DDD;\n",
              "  }\n",
              "\n",
              "  [theme=dark] .colab-df-quickchart {\n",
              "      --bg-color: #3B4455;\n",
              "      --fill-color: #D2E3FC;\n",
              "      --hover-bg-color: #434B5C;\n",
              "      --hover-fill-color: #FFFFFF;\n",
              "      --disabled-bg-color: #3B4455;\n",
              "      --disabled-fill-color: #666;\n",
              "  }\n",
              "\n",
              "  .colab-df-quickchart {\n",
              "    background-color: var(--bg-color);\n",
              "    border: none;\n",
              "    border-radius: 50%;\n",
              "    cursor: pointer;\n",
              "    display: none;\n",
              "    fill: var(--fill-color);\n",
              "    height: 32px;\n",
              "    padding: 0;\n",
              "    width: 32px;\n",
              "  }\n",
              "\n",
              "  .colab-df-quickchart:hover {\n",
              "    background-color: var(--hover-bg-color);\n",
              "    box-shadow: 0 1px 2px rgba(60, 64, 67, 0.3), 0 1px 3px 1px rgba(60, 64, 67, 0.15);\n",
              "    fill: var(--button-hover-fill-color);\n",
              "  }\n",
              "\n",
              "  .colab-df-quickchart-complete:disabled,\n",
              "  .colab-df-quickchart-complete:disabled:hover {\n",
              "    background-color: var(--disabled-bg-color);\n",
              "    fill: var(--disabled-fill-color);\n",
              "    box-shadow: none;\n",
              "  }\n",
              "\n",
              "  .colab-df-spinner {\n",
              "    border: 2px solid var(--fill-color);\n",
              "    border-color: transparent;\n",
              "    border-bottom-color: var(--fill-color);\n",
              "    animation:\n",
              "      spin 1s steps(1) infinite;\n",
              "  }\n",
              "\n",
              "  @keyframes spin {\n",
              "    0% {\n",
              "      border-color: transparent;\n",
              "      border-bottom-color: var(--fill-color);\n",
              "      border-left-color: var(--fill-color);\n",
              "    }\n",
              "    20% {\n",
              "      border-color: transparent;\n",
              "      border-left-color: var(--fill-color);\n",
              "      border-top-color: var(--fill-color);\n",
              "    }\n",
              "    30% {\n",
              "      border-color: transparent;\n",
              "      border-left-color: var(--fill-color);\n",
              "      border-top-color: var(--fill-color);\n",
              "      border-right-color: var(--fill-color);\n",
              "    }\n",
              "    40% {\n",
              "      border-color: transparent;\n",
              "      border-right-color: var(--fill-color);\n",
              "      border-top-color: var(--fill-color);\n",
              "    }\n",
              "    60% {\n",
              "      border-color: transparent;\n",
              "      border-right-color: var(--fill-color);\n",
              "    }\n",
              "    80% {\n",
              "      border-color: transparent;\n",
              "      border-right-color: var(--fill-color);\n",
              "      border-bottom-color: var(--fill-color);\n",
              "    }\n",
              "    90% {\n",
              "      border-color: transparent;\n",
              "      border-bottom-color: var(--fill-color);\n",
              "    }\n",
              "  }\n",
              "</style>\n",
              "\n",
              "      <script>\n",
              "        async function quickchart(key) {\n",
              "          const quickchartButtonEl =\n",
              "            document.querySelector('#' + key + ' button');\n",
              "          quickchartButtonEl.disabled = true;  // To prevent multiple clicks.\n",
              "          quickchartButtonEl.classList.add('colab-df-spinner');\n",
              "          try {\n",
              "            const charts = await google.colab.kernel.invokeFunction(\n",
              "                'suggestCharts', [key], {});\n",
              "          } catch (error) {\n",
              "            console.error('Error during call to suggestCharts:', error);\n",
              "          }\n",
              "          quickchartButtonEl.classList.remove('colab-df-spinner');\n",
              "          quickchartButtonEl.classList.add('colab-df-quickchart-complete');\n",
              "        }\n",
              "        (() => {\n",
              "          let quickchartButtonEl =\n",
              "            document.querySelector('#df-d4852587-67c3-42b9-a5c2-4d7020d43193 button');\n",
              "          quickchartButtonEl.style.display =\n",
              "            google.colab.kernel.accessAllowed ? 'block' : 'none';\n",
              "        })();\n",
              "      </script>\n",
              "    </div>\n",
              "\n",
              "  <div id=\"id_ab51db7a-19a2-4920-92d5-f0ffff6e485b\">\n",
              "    <style>\n",
              "      .colab-df-generate {\n",
              "        background-color: #E8F0FE;\n",
              "        border: none;\n",
              "        border-radius: 50%;\n",
              "        cursor: pointer;\n",
              "        display: none;\n",
              "        fill: #1967D2;\n",
              "        height: 32px;\n",
              "        padding: 0 0 0 0;\n",
              "        width: 32px;\n",
              "      }\n",
              "\n",
              "      .colab-df-generate:hover {\n",
              "        background-color: #E2EBFA;\n",
              "        box-shadow: 0px 1px 2px rgba(60, 64, 67, 0.3), 0px 1px 3px 1px rgba(60, 64, 67, 0.15);\n",
              "        fill: #174EA6;\n",
              "      }\n",
              "\n",
              "      [theme=dark] .colab-df-generate {\n",
              "        background-color: #3B4455;\n",
              "        fill: #D2E3FC;\n",
              "      }\n",
              "\n",
              "      [theme=dark] .colab-df-generate:hover {\n",
              "        background-color: #434B5C;\n",
              "        box-shadow: 0px 1px 3px 1px rgba(0, 0, 0, 0.15);\n",
              "        filter: drop-shadow(0px 1px 2px rgba(0, 0, 0, 0.3));\n",
              "        fill: #FFFFFF;\n",
              "      }\n",
              "    </style>\n",
              "    <button class=\"colab-df-generate\" onclick=\"generateWithVariable('df_movie')\"\n",
              "            title=\"Generate code using this dataframe.\"\n",
              "            style=\"display:none;\">\n",
              "\n",
              "  <svg xmlns=\"http://www.w3.org/2000/svg\" height=\"24px\"viewBox=\"0 0 24 24\"\n",
              "       width=\"24px\">\n",
              "    <path d=\"M7,19H8.4L18.45,9,17,7.55,7,17.6ZM5,21V16.75L18.45,3.32a2,2,0,0,1,2.83,0l1.4,1.43a1.91,1.91,0,0,1,.58,1.4,1.91,1.91,0,0,1-.58,1.4L9.25,21ZM18.45,9,17,7.55Zm-12,3A5.31,5.31,0,0,0,4.9,8.1,5.31,5.31,0,0,0,1,6.5,5.31,5.31,0,0,0,4.9,4.9,5.31,5.31,0,0,0,6.5,1,5.31,5.31,0,0,0,8.1,4.9,5.31,5.31,0,0,0,12,6.5,5.46,5.46,0,0,0,6.5,12Z\"/>\n",
              "  </svg>\n",
              "    </button>\n",
              "    <script>\n",
              "      (() => {\n",
              "      const buttonEl =\n",
              "        document.querySelector('#id_ab51db7a-19a2-4920-92d5-f0ffff6e485b button.colab-df-generate');\n",
              "      buttonEl.style.display =\n",
              "        google.colab.kernel.accessAllowed ? 'block' : 'none';\n",
              "\n",
              "      buttonEl.onclick = () => {\n",
              "        google.colab.notebook.generateWithVariable('df_movie');\n",
              "      }\n",
              "      })();\n",
              "    </script>\n",
              "  </div>\n",
              "\n",
              "    </div>\n",
              "  </div>\n"
            ],
            "application/vnd.google.colaboratory.intrinsic+json": {
              "type": "dataframe",
              "variable_name": "df_movie",
              "summary": "{\n  \"name\": \"df_movie\",\n  \"rows\": 10,\n  \"fields\": [\n    {\n      \"column\": \"rnum\",\n      \"properties\": {\n        \"dtype\": \"string\",\n        \"num_unique_values\": 10,\n        \"samples\": [\n          \"9\",\n          \"2\",\n          \"6\"\n        ],\n        \"semantic_type\": \"\",\n        \"description\": \"\"\n      }\n    },\n    {\n      \"column\": \"rank\",\n      \"properties\": {\n        \"dtype\": \"string\",\n        \"num_unique_values\": 10,\n        \"samples\": [\n          \"9\",\n          \"2\",\n          \"6\"\n        ],\n        \"semantic_type\": \"\",\n        \"description\": \"\"\n      }\n    },\n    {\n      \"column\": \"rankInten\",\n      \"properties\": {\n        \"dtype\": \"string\",\n        \"num_unique_values\": 6,\n        \"samples\": [\n          \"0\",\n          \"1\",\n          \"7\"\n        ],\n        \"semantic_type\": \"\",\n        \"description\": \"\"\n      }\n    },\n    {\n      \"column\": \"rankOldAndNew\",\n      \"properties\": {\n        \"dtype\": \"category\",\n        \"num_unique_values\": 1,\n        \"samples\": [\n          \"OLD\"\n        ],\n        \"semantic_type\": \"\",\n        \"description\": \"\"\n      }\n    },\n    {\n      \"column\": \"movieCd\",\n      \"properties\": {\n        \"dtype\": \"string\",\n        \"num_unique_values\": 10,\n        \"samples\": [\n          \"20255655\"\n        ],\n        \"semantic_type\": \"\",\n        \"description\": \"\"\n      }\n    },\n    {\n      \"column\": \"movieNm\",\n      \"properties\": {\n        \"dtype\": \"string\",\n        \"num_unique_values\": 10,\n        \"samples\": [\n          \"\\uc2dd\\uc2a4\\ub370\\uc774\\uc988\"\n        ],\n        \"semantic_type\": \"\",\n        \"description\": \"\"\n      }\n    },\n    {\n      \"column\": \"openDt\",\n      \"properties\": {\n        \"dtype\": \"object\",\n        \"num_unique_values\": 6,\n        \"samples\": [\n          \"2025-07-30\"\n        ],\n        \"semantic_type\": \"\",\n        \"description\": \"\"\n      }\n    },\n    {\n      \"column\": \"salesAmt\",\n      \"properties\": {\n        \"dtype\": \"string\",\n        \"num_unique_values\": 10,\n        \"samples\": [\n          \"119130000\"\n        ],\n        \"semantic_type\": \"\",\n        \"description\": \"\"\n      }\n    },\n    {\n      \"column\": \"salesShare\",\n      \"properties\": {\n        \"dtype\": \"string\",\n        \"num_unique_values\": 10,\n        \"samples\": [\n          \"1.7\"\n        ],\n        \"semantic_type\": \"\",\n        \"description\": \"\"\n      }\n    },\n    {\n      \"column\": \"salesInten\",\n      \"properties\": {\n        \"dtype\": \"string\",\n        \"num_unique_values\": 10,\n        \"samples\": [\n          \"14124000\"\n        ],\n        \"semantic_type\": \"\",\n        \"description\": \"\"\n      }\n    },\n    {\n      \"column\": \"salesChange\",\n      \"properties\": {\n        \"dtype\": \"string\",\n        \"num_unique_values\": 10,\n        \"samples\": [\n          \"13.5\"\n        ],\n        \"semantic_type\": \"\",\n        \"description\": \"\"\n      }\n    },\n    {\n      \"column\": \"salesAcc\",\n      \"properties\": {\n        \"dtype\": \"string\",\n        \"num_unique_values\": 10,\n        \"samples\": [\n          \"570186000\"\n        ],\n        \"semantic_type\": \"\",\n        \"description\": \"\"\n      }\n    },\n    {\n      \"column\": \"audiCnt\",\n      \"properties\": {\n        \"dtype\": \"string\",\n        \"num_unique_values\": 10,\n        \"samples\": [\n          \"5415\"\n        ],\n        \"semantic_type\": \"\",\n        \"description\": \"\"\n      }\n    },\n    {\n      \"column\": \"audiInten\",\n      \"properties\": {\n        \"dtype\": \"string\",\n        \"num_unique_values\": 10,\n        \"samples\": [\n          \"642\"\n        ],\n        \"semantic_type\": \"\",\n        \"description\": \"\"\n      }\n    },\n    {\n      \"column\": \"audiChange\",\n      \"properties\": {\n        \"dtype\": \"string\",\n        \"num_unique_values\": 10,\n        \"samples\": [\n          \"13.5\"\n        ],\n        \"semantic_type\": \"\",\n        \"description\": \"\"\n      }\n    },\n    {\n      \"column\": \"audiAcc\",\n      \"properties\": {\n        \"dtype\": \"string\",\n        \"num_unique_values\": 10,\n        \"samples\": [\n          \"26097\"\n        ],\n        \"semantic_type\": \"\",\n        \"description\": \"\"\n      }\n    },\n    {\n      \"column\": \"scrnCnt\",\n      \"properties\": {\n        \"dtype\": \"string\",\n        \"num_unique_values\": 10,\n        \"samples\": [\n          \"113\"\n        ],\n        \"semantic_type\": \"\",\n        \"description\": \"\"\n      }\n    },\n    {\n      \"column\": \"showCnt\",\n      \"properties\": {\n        \"dtype\": \"string\",\n        \"num_unique_values\": 10,\n        \"samples\": [\n          \"256\"\n        ],\n        \"semantic_type\": \"\",\n        \"description\": \"\"\n      }\n    }\n  ]\n}"
            }
          },
          "metadata": {},
          "execution_count": 28
        }
      ]
    },
    {
      "cell_type": "code",
      "source": [
        "# api로 데이터 가져온다음 판다스로하자\n",
        "# 그래야 파일저장이나 DB저장이 쉽다"
      ],
      "metadata": {
        "id": "paYggMCRo2oI"
      },
      "execution_count": 30,
      "outputs": []
    },
    {
      "cell_type": "code",
      "source": [
        "# 엑셀을 파이썬으로 구현한게 판다스.. 스프레드 시트..\n",
        "# bcg?"
      ],
      "metadata": {
        "id": "e-dtEtUzo8CS"
      },
      "execution_count": 31,
      "outputs": []
    },
    {
      "cell_type": "code",
      "source": [],
      "metadata": {
        "id": "LYBXlX9JpQXx"
      },
      "execution_count": null,
      "outputs": []
    }
  ]
}